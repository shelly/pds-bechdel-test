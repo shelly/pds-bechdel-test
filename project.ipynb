{
 "cells": [
  {
   "cell_type": "markdown",
   "metadata": {
    "collapsed": true,
    "scrolled": true
   },
   "source": [
    "# FEMALE REPRESENTATION IN MOVIES\n",
    "\n"
   ]
  },
  {
   "cell_type": "markdown",
   "metadata": {},
   "source": [
    "I WANT A MOVIE BANNER OR SOME GRAPHIC HERE"
   ]
  },
  {
   "cell_type": "markdown",
   "metadata": {},
   "source": [
    "## Introduction and Motivation\n"
   ]
  },
  {
   "cell_type": "markdown",
   "metadata": {},
   "source": [
    "Movies have become a pervasive societal influence, exerting influence in more ways than one. They are a form of mass communication - information or ideology (in the form of art) is distributed simultaneously to a large number of people. Since they have become so instrumental in influencing viewers’ opinions, it is crucial to ensure that the messages they are sending across are the sort we want to see in our society. As we read about movies and social issues related to them, we grew increasingly interested in gender bias and how that is monitored and measured in the film industry."
   ]
  },
  {
   "cell_type": "markdown",
   "metadata": {},
   "source": [
    "* In 2014, globally, there were 2.24 male characters for every 1 female character.\n",
    "* Out of a total of 5,799 speaking or named characters 30.9 percent were female, 69.1 percent male.\n",
    "* Females are 7 percent of directors, 19.7 percent of writers, and 22.7 percent of producers.\n",
    "\n",
    "You can read more about such statistics [here](https://www.huffingtonpost.com/soraya-chemaly/20-mustknow-facts-about-g_b_5869564.html).\n"
   ]
  },
  {
   "cell_type": "markdown",
   "metadata": {},
   "source": [
    "## The Bechdel Test\n",
    "As we did more research, we found out about a metric known as the Bechdel Test. The Bechdel Test is a simple test that is used to score a movie given its representation of women. \n",
    "\n",
    "The movie needs to pass the following criteria\n",
    "1. Have at least two named women in it\n",
    "2. Who talk to each other\n",
    "3. About something besides a man\n",
    "\n",
    "A film is given a score between 0-3 based on which level it reaches in terms of satisfying the criteria of the Bechdel Test. For example a film with no women characters would receive a score of 0, a film with two named women who don’t speak to each other gets a 1, and a film with at least two women who talk to each other about a man would receive a 2 (because it did not satisfy the third category). \n",
    "\n",
    "The test itself has been in question as a metric for gender bias - is it accurate, sufficient and indicative of equal representation of women in film? For example, we found it interesting that the movie Gravity (starring Sandra Bullock) fails the test, even though Sandra Bullock, the protagonist, has an extremely developed plotline and background. The issue was that there were no other women in the movie, and so there was no way it would satisfy the criteria. On the other hand, the blockbuster Titanic is a movie about Rose’s journey and her growing into herself, but the movie passes because of conversations between her mother and her friends gossiping about another female character. We felt that this movie passed for the 'wrong' reasons, because....\n",
    "\n",
    "We then decided to focus our project on understanding why such gender bias arises, i.e. what factors influence whether or not a movie passes the Bechdel Test?\n",
    "\n",
    "Our two key questions were: \n",
    "1. What makes a movie likely to pass or fail the Bechdel test? \n",
    "2. Is the Bechdel test a good metric for evaluating female representation?"
   ]
  },
  {
   "cell_type": "code",
   "execution_count": 1,
   "metadata": {},
   "outputs": [],
   "source": [
    "# Set up by importing all the necessary packages\n",
    "import csv\n",
    "import pandas as pd\n",
    "import numpy as np\n",
    "import matplotlib.pyplot as plt"
   ]
  },
  {
   "cell_type": "markdown",
   "metadata": {},
   "source": [
    "## Data Collection"
   ]
  },
  {
   "cell_type": "markdown",
   "metadata": {},
   "source": [
    "All the data used in this project is available for download from our Github [Downloadable Data](URL). INSERT!"
   ]
  },
  {
   "cell_type": "code",
   "execution_count": null,
   "metadata": {},
   "outputs": [],
   "source": []
  }
 ],
 "metadata": {
  "kernelspec": {
   "display_name": "Python 3",
   "language": "python",
   "name": "python3"
  },
  "language_info": {
   "codemirror_mode": {
    "name": "ipython",
    "version": 3
   },
   "file_extension": ".py",
   "mimetype": "text/x-python",
   "name": "python",
   "nbconvert_exporter": "python",
   "pygments_lexer": "ipython3",
   "version": "3.5.4"
  }
 },
 "nbformat": 4,
 "nbformat_minor": 2
}
