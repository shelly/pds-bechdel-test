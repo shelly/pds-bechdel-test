{
 "cells": [
  {
   "cell_type": "markdown",
   "metadata": {
    "collapsed": true,
    "scrolled": true
   },
   "source": [
    "# FEMALE REPRESENTATION IN MOVIES"
   ]
  },
  {
   "cell_type": "markdown",
   "metadata": {},
   "source": [
    "MAKE THESE SIDE BY SIDE\n",
    "\n",
    "<img style= src=\"titanic.jpg\" width=\"15%\" height=\"15%\">\n",
    "<img style= src=\"gravity.jpg\" width=\"15%\" height=\"15%\">\n",
    "<img style= src=\"panther.jpg\" width=\"15%\" height=\"15%\">"
   ]
  },
  {
   "cell_type": "markdown",
   "metadata": {},
   "source": [
    "## Introduction\n",
    "\n",
    "### Motivation\n",
    "\n",
    "Movies have become a pervasive societal influence, exerting influence in more ways than one. They are a form of mass communication - information or ideology (in the form of art) is distributed simultaneously to a large number of people. Since they have become so instrumental in influencing viewers’ opinions, it is crucial to ensure that the messages they are sending across are the sort we want to see in our society. As we read about movies and social issues related to them, we grew increasingly interested in gender bias and how that is monitored and measured in the film industry.\n",
    "\n",
    "* In 2014, globally, there were 2.24 male characters for every 1 female character.\n",
    "* Out of a total of 5,799 speaking or named characters 30.9 percent were female, 69.1 percent male.\n",
    "* Females are 7 percent of directors, 19.7 percent of writers, and 22.7 percent of producers.\n",
    "\n",
    "You can read more about such statistics [here](https://www.huffingtonpost.com/soraya-chemaly/20-mustknow-facts-about-g_b_5869564.html).\n",
    "\n",
    "### The Bechdel Test\n",
    "As we did more research, we found out about a metric known as the Bechdel Test. The Bechdel Test is a test originally proposed in 1985 by Alison Bechdel, that is used to \"grade\" movies on their representation of women. \n",
    "\n",
    "The movie needs to pass the following criteria\n",
    "1. Have at least two named women in it\n",
    "2. Who talk to each other\n",
    "3. About something besides a man\n",
    "\n",
    "A film is given a score between 0-3 based on how many of the Bechdel test criteria it satisfies. For example, a film with no women characters gets a score of 0, a film with two named women who don’t speak to each other gets a 1, and a film with at least two women who talk to each other about a man would receive a 2. \n",
    "\n",
    "The test itself has been in question as a metric for gender bias - is it accurate, sufficient and indicative of equal representation of women in film? For example, we found it interesting that the movie Gravity (starring Sandra Bullock) fails the test, even though Sandra Bullock, the protagonist, has an extremely developed plotline and background. The issue was that there were no other women in the movie, and so there was no way it would satisfy the criteria. On the other hand, the blockbuster Titanic is a movie about Rose’s journey and her growing into herself, but the movie passes because of conversations between her mother and her friends gossiping about another female character. We felt that this movie passed for the 'wrong' reasons.\n",
    "\n",
    "We then decided to focus our project on understanding why such gender bias arises, i.e. what factors influence whether or not a movie passes the Bechdel Test?\n",
    "\n",
    "Our two key questions were: \n",
    "1. What makes a movie likely to pass or fail the Bechdel test? \n",
    "2. Is the Bechdel test a good metric for evaluating female representation?"
   ]
  },
  {
   "cell_type": "code",
   "execution_count": 1,
   "metadata": {},
   "outputs": [],
   "source": [
    "# Set up by importing all the necessary packages\n",
    "import csv\n",
    "import pandas as pd\n",
    "import numpy as np\n",
    "import matplotlib.pyplot as plt"
   ]
  },
  {
   "cell_type": "markdown",
   "metadata": {},
   "source": [
    "## Dataset\n",
    "###  Data Collection\n",
    "\n",
    "We found a [website](https://bechdeltest.com/) that contained a number of movies and their corresponding Bechdel Test scores - CROWDSOURCED? MORE DETAILS?. Using the provided API, we consolidated a CSV file. We also gathered information about the movies (release year, director, cast, crew) and about specific people involved in the cast and crew (age, gender, hometown, popularity) of these movies - this data was available on [The Movie Database](https://www.themoviedb.org/?language=en), and acquired by using the provided API. Please refer to the Appendix to get into more details on how we collated this data.\n",
    "\n",
    "All the data used in this project is available for download from our Github [Downloadable Data](URL). INSERT!\n"
   ]
  },
  {
   "cell_type": "code",
   "execution_count": 2,
   "metadata": {},
   "outputs": [],
   "source": [
    "from load_data import get_movies, get_people\n",
    "movie_data = get_movies()\n",
    "movie_by_id = movie_data.set_index('TMDB_ID')\n",
    "people_data = get_people()\n",
    "people_data = people_data.set_index('TMDB_ID')"
   ]
  },
  {
   "cell_type": "markdown",
   "metadata": {},
   "source": [
    "### Exploratory Data Analysis\n",
    "\n",
    "In order to find signal and patterns in our data, we started to explore the dataset we curated a little bit more. \n",
    "INSERT GRAPHICS\n",
    "The first graph here shows that Bechdel score over time (in each decade)\n",
    "Per genre bechdel score"
   ]
  },
  {
   "cell_type": "markdown",
   "metadata": {},
   "source": [
    "## Data Analysis\n",
    "\n",
    "### Feature Engineering\n",
    "We realized that training a model on the given rudimentary features that we collated (such as Year of Release, Names of Directors) would not result in sophisticated models. They would simply be unable to correctly and consistently predict whether or not a movie passed the Bechdel Test. \n",
    "\n",
    "Based on our EDA, we created new, improved features that we thought would better correlate to whether or not movies passed the Bechdel test. The file containing all the functions we wrote to created these features is available [here](GITHUB).\n",
    "\n",
    "Some of the new features we created included categorical variable indicating whether or not the first billed actor was female, whether or not there was a female writer involved with the script and the average age of the director.\n",
    "\n",
    "The example below shows how we created a new feature to find the fraction of women in the writing crew.\n"
   ]
  },
  {
   "cell_type": "code",
   "execution_count": 3,
   "metadata": {},
   "outputs": [],
   "source": [
    "# Returns fraction of females in writing crew\n",
    "def get_female_writing_score():\n",
    "    crews = movie_data['Crew']\n",
    "    scores = np.zeros(crews.shape)\n",
    "    ind = 0\n",
    "    for crew in crews:\n",
    "        if (len(crew) == 0):\n",
    "            scores[ind] == float('nan')\n",
    "        else:\n",
    "            writers = 0\n",
    "            fem_writ = 0\n",
    "            no_gend = 0\n",
    "            for mem in crew:\n",
    "                if (mem['department'] == 'Writing'):\n",
    "                    person_id = int(mem['id'])\n",
    "                    if (person_id in people_data.index):\n",
    "                        person_info = people_data.loc[person_id]\n",
    "                        person_gender = person_info['Gender']\n",
    "                        if (person_gender == 0):\n",
    "                            no_gend += 1\n",
    "                        if (person_gender != 0):\n",
    "                            writers += 1\n",
    "                        if (person_gender == 1):\n",
    "                            fem_writ += 1\n",
    "            if (writers != 0):\n",
    "                if (no_gend == len(crew)):\n",
    "                    scores[ind] = float('nan')\n",
    "                else:\n",
    "                    scores[ind] = fem_writ/writers\n",
    "        ind += 1\n",
    "    return scores"
   ]
  },
  {
   "cell_type": "markdown",
   "metadata": {},
   "source": [
    "### Modeling\n",
    "\n",
    "Our aim was to train a model that would accurately predict whether or not a movie would pass the Bechdel Test. We created models using the following algorithms:\n",
    "\n",
    "* Support Vector Machines\n",
    "  * RBF Kernel\n",
    "  * Linear Kernel\n",
    "* Decision Trees\n",
    "  * Max-Depth 3\n",
    "  * Max-Depth 4\n",
    "* Gaussian Mixture Models\n",
    "* Naive Bayes\n",
    "  * Gaussian Naive Bayes\n",
    "  * Multinomial Naive Bayes\n",
    "  \n",
    "In our dataset, 58% of movies passed the Bechdel Test, so we considered this to be the baseline. Our best model, which used the SVM, gave us a testing accuracy of 71%. We found that similar movies behaved similarly on the Bechdel Test - so a movie was more likely to pass if other movies similar to it also passed, and vice versa."
   ]
  },
  {
   "cell_type": "markdown",
   "metadata": {},
   "source": [
    "## Conclusion\n",
    "\n",
    "### Results\n",
    "Our findings indicated that clusters of movies tend to all pass or fail the test together. For example, movies that have at least one female writer are all likely to pass, and the cluster of movies that are Westerns are all likely to fail. \n",
    "\n",
    "Overall, our work supports the hypothesis that the Bechdel test is a good baseline metric for female representation. As we mentioned, the fact that all movies with at least one female writer were more likely to pass the Bechdel Test, indicates that the test is somewhat a good indicator. However, as mentioned before, the fact that Gravity does not pass, but Titanic does raises doubt in our.....\n",
    "\n",
    "### Future Work and Extensions\n",
    "\n",
    "We found out about the [Mako Mori Test](http://geekfeminism.wikia.com/wiki/Mako_Mori_test), and believe this is another viable alternative that should be considered as a measure of female representation on film."
   ]
  },
  {
   "cell_type": "code",
   "execution_count": null,
   "metadata": {},
   "outputs": [],
   "source": []
  }
 ],
 "metadata": {
  "kernelspec": {
   "display_name": "Python 3",
   "language": "python",
   "name": "python3"
  },
  "language_info": {
   "codemirror_mode": {
    "name": "ipython",
    "version": 3
   },
   "file_extension": ".py",
   "mimetype": "text/x-python",
   "name": "python",
   "nbconvert_exporter": "python",
   "pygments_lexer": "ipython3",
   "version": "3.5.4"
  }
 },
 "nbformat": 4,
 "nbformat_minor": 2
}
