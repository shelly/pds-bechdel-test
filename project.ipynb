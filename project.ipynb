{
 "cells": [
  {
   "cell_type": "markdown",
   "metadata": {
    "collapsed": true,
    "scrolled": true
   },
   "source": [
    "# FEMALE REPRESENTATION IN MOVIES"
   ]
  },
  {
   "cell_type": "markdown",
   "metadata": {},
   "source": [
    "MAKE THESE SIDE BY SIDE\n",
    "\n",
    "<img style= src=\"titanic.jpg\" width=\"20%\" height=\"20%\">\n",
    "<img style= src=\"gravity.jpg\" width=\"20%\" height=\"20%\">\n",
    "<img style= src=\"panther.jpg\" width=\"20%\" height=\"20%\">"
   ]
  },
  {
   "cell_type": "markdown",
   "metadata": {},
   "source": [
    "## Introduction\n",
    "\n",
    "### Motivation\n",
    "\n",
    "Movies have become a pervasive societal influence, exerting influence in more ways than one. They are a form of mass communication - information or ideology (in the form of art) is distributed simultaneously to a large number of people. Since they have become so instrumental in influencing viewers’ opinions, it is crucial to ensure that the messages they are sending across are the sort we want to see in our society. As we read about movies and social issues related to them, we grew increasingly interested in gender bias and how that is monitored and measured in the film industry.\n",
    "\n",
    "* In 2014, globally, there were 2.24 male characters for every 1 female character.\n",
    "* Out of a total of 5,799 speaking or named characters 30.9 percent were female, 69.1 percent male.\n",
    "* Females are 7 percent of directors, 19.7 percent of writers, and 22.7 percent of producers.\n",
    "\n",
    "You can read more about such statistics [here](https://www.huffingtonpost.com/soraya-chemaly/20-mustknow-facts-about-g_b_5869564.html).\n",
    "\n",
    "### The Bechdel Test\n",
    "As we did more research, we found out about a metric known as the Bechdel Test. The Bechdel Test is a test originally proposed in 1985 by Alison Bechdel, that is used to \"grade\" movies on their representation of women. \n",
    "\n",
    "The movie needs to pass the following criteria\n",
    "1. Have at least two named women in it\n",
    "2. Who talk to each other\n",
    "3. About something besides a man\n",
    "\n",
    "A film is given a score between 0-3 based on how many of the Bechdel test criteria it satisfies. For example, a film with no women characters gets a score of 0, a film with two named women who don’t speak to each other gets a 1, and a film with at least two women who talk to each other about a man would receive a 2. \n",
    "\n",
    "The test itself has been in question as a metric for gender bias - is it accurate, sufficient and indicative of equal representation of women in film? For example, we found it interesting that the movie Gravity (starring Sandra Bullock) fails the test, even though Sandra Bullock, the protagonist, has an extremely developed plotline and background. The issue was that there were no other women in the movie, and so there was no way it would satisfy the criteria. On the other hand, the blockbuster Titanic is a movie about Rose’s journey and her growing into herself, but the movie passes because of conversations between her mother and her friends gossiping about another female character. We felt that this movie passed for the 'wrong' reasons.\n",
    "\n",
    "We then decided to focus our project on understanding why such gender bias arises, i.e. what factors influence whether or not a movie passes the Bechdel Test?\n",
    "\n",
    "Our two key questions were: \n",
    "1. What makes a movie likely to pass or fail the Bechdel test? \n",
    "2. Is the Bechdel test a good metric for evaluating female representation?"
   ]
  },
  {
   "cell_type": "code",
   "execution_count": 1,
   "metadata": {},
   "outputs": [],
   "source": [
    "# Set up by importing all the necessary packages\n",
    "import csv\n",
    "import pandas as pd\n",
    "import numpy as np\n",
    "import matplotlib.pyplot as plt"
   ]
  },
  {
   "cell_type": "markdown",
   "metadata": {},
   "source": [
    "## Dataset\n",
    "###  Data Collection\n",
    "\n",
    "We found a [website](https://bechdeltest.com/) that contained a number of movies and their corresponding Bechdel Test scores - CROWDSOURCED? MORE DETAILS?. Using the provided API, we consolidated a CSV file. We also gathered information about the movies (release year, director, cast, crew) and about specific people involved in the cast and crew (age, gender, hometown, popularity) of these movies - this data was available on [The Movie Database](https://www.themoviedb.org/?language=en), and acquired by using the provided API. Please refer to the Appendix to get into more details on how we collated this data.\n",
    "\n",
    "All the data used in this project is available for download from our Github [Downloadable Data](URL). INSERT!\n"
   ]
  },
  {
   "cell_type": "code",
   "execution_count": 2,
   "metadata": {},
   "outputs": [],
   "source": [
    "from load_data import get_movies, get_people\n",
    "movie_data = get_movies()\n",
    "movie_by_id = movie_data.set_index('TMDB_ID')\n",
    "people_data = get_people()\n",
    "people_data = people_data.set_index('TMDB_ID')"
   ]
  },
  {
   "cell_type": "markdown",
   "metadata": {},
   "source": [
    "### Exploratory Data Analysis\n",
    "\n",
    "In order to find signal and patterns in our data, we started to explore the dataset we curated a little bit more. \n",
    "INSERT GRAPHICS\n",
    "The first graph here shows that Bechdel score over time (in each decade)\n",
    "Per genre bechdel score"
   ]
  },
  {
   "cell_type": "markdown",
   "metadata": {},
   "source": [
    "## Data Analysis\n",
    "\n",
    "### Feature Engineering\n",
    "We very quickly realized that training on the given rudimentary features would not result in sophisticated models\n",
    "\n",
    "### Modeling\n",
    "\n",
    "We ran numerous models including..."
   ]
  },
  {
   "cell_type": "markdown",
   "metadata": {},
   "source": [
    "## Conclusion\n",
    "\n",
    "### Results\n",
    "\n",
    "### Future Work and Extensions"
   ]
  },
  {
   "cell_type": "markdown",
   "metadata": {},
   "source": [
    "## Appendix"
   ]
  },
  {
   "cell_type": "code",
   "execution_count": null,
   "metadata": {},
   "outputs": [],
   "source": []
  }
 ],
 "metadata": {
  "kernelspec": {
   "display_name": "Python 3",
   "language": "python",
   "name": "python3"
  },
  "language_info": {
   "codemirror_mode": {
    "name": "ipython",
    "version": 3
   },
   "file_extension": ".py",
   "mimetype": "text/x-python",
   "name": "python",
   "nbconvert_exporter": "python",
   "pygments_lexer": "ipython3",
   "version": "3.5.4"
  }
 },
 "nbformat": 4,
 "nbformat_minor": 2
}
